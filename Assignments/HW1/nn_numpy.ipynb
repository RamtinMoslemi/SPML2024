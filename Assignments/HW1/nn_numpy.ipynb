{
  "cells": [
    {
      "cell_type": "markdown",
      "metadata": {
        "id": "ooJtNr5dGrH9"
      },
      "source": [
        "**Name: Ramtin Moslemi**\n",
        "\n",
        "**Student Number: 99170553**\n",
        "\n",
        "\n"
      ]
    },
    {
      "cell_type": "markdown",
      "metadata": {
        "id": "ZJm9Z1k0cdmh"
      },
      "source": [
        "# Neural-Network with Numpy"
      ]
    },
    {
      "cell_type": "markdown",
      "metadata": {
        "id": "LDN075MYGesD"
      },
      "source": [
        "In this notebook, you are going to write and implement all the components required to create and train a two-layered neural network using NumPy."
      ]
    },
    {
      "cell_type": "markdown",
      "metadata": {
        "id": "wt3FdxgNcdmm"
      },
      "source": [
        "## Imports & Seeding:"
      ]
    },
    {
      "cell_type": "markdown",
      "metadata": {
        "id": "oPZ4zlnxqhl5"
      },
      "source": [
        "Importing some common libraries"
      ]
    },
    {
      "cell_type": "code",
      "execution_count": 1,
      "metadata": {
        "id": "Et7OS7TGcdmn"
      },
      "outputs": [],
      "source": [
        "import numpy as np\n",
        "import pandas as pd\n",
        "import matplotlib.pyplot as plt\n",
        "np.random.seed(123)\n",
        "%matplotlib inline"
      ]
    },
    {
      "cell_type": "markdown",
      "metadata": {
        "id": "Fa2v2-xbcdmo"
      },
      "source": [
        "## Preparing the data"
      ]
    },
    {
      "cell_type": "markdown",
      "metadata": {
        "id": "bKWqV2Gycdmp"
      },
      "source": [
        "You'll train and evaluate your model on [Fashion MNIST](https://en.wikipedia.org/wiki/Fashion_MNIST) dataset. In this section, you'll download Fashion MNIST and split it into training and testing datasets."
      ]
    },
    {
      "cell_type": "code",
      "execution_count": 2,
      "metadata": {
        "id": "tMYZtSoLc7c-",
        "colab": {
          "base_uri": "https://localhost:8080/"
        },
        "outputId": "a71381b8-4f04-4e3c-c472-499073244b77"
      },
      "outputs": [
        {
          "output_type": "stream",
          "name": "stderr",
          "text": [
            "/usr/local/lib/python3.10/dist-packages/sklearn/datasets/_openml.py:968: FutureWarning: The default value of `parser` will change from `'liac-arff'` to `'auto'` in 1.4. You can set `parser='auto'` to silence this warning. Therefore, an `ImportError` will be raised from 1.4 if the dataset is dense and pandas is not installed. Note that the pandas parser may return different data types. See the Notes Section in fetch_openml's API doc for details.\n",
            "  warn(\n"
          ]
        },
        {
          "output_type": "stream",
          "name": "stdout",
          "text": [
            "(70000, 784) (70000,)\n"
          ]
        }
      ],
      "source": [
        "from sklearn.datasets import fetch_openml\n",
        "\n",
        "# Using `fetch_openml`, download `Fashion-MNIST`\n",
        "# and save the training data and labels in `X` and `y` respectively.\n",
        "#############################\n",
        "# Your code goes here (5 points)\n",
        "fashion_mnist = fetch_openml(\"Fashion-MNIST\")\n",
        "X, y = fashion_mnist['data'], fashion_mnist['target']\n",
        "#############################\n",
        "\n",
        "# Normalization:\n",
        "X = ((X / 255.) - .5) * 2\n",
        "\n",
        "print(X.shape, y.shape)"
      ]
    },
    {
      "cell_type": "code",
      "execution_count": 3,
      "metadata": {
        "id": "sDmxyMJ4dBk3",
        "colab": {
          "base_uri": "https://localhost:8080/"
        },
        "outputId": "bae394ac-3189-443d-dee5-afa7adb7741b"
      },
      "outputs": [
        {
          "output_type": "stream",
          "name": "stdout",
          "text": [
            "(60000, 784) (60000,) (10000, 784) (10000,)\n"
          ]
        }
      ],
      "source": [
        "from sklearn.model_selection import train_test_split\n",
        "\n",
        "# Using `train_test_split`, split your data into two sets.\n",
        "# Set the test_size to 10000\n",
        "\n",
        "#############################\n",
        "# Your code goes here (6 points)\n",
        "x_train, x_test, y_train, y_test = train_test_split(X, y, test_size=10000)\n",
        "#############################\n",
        "\n",
        "print(x_train.shape, y_train.shape, x_test.shape, y_test.shape)"
      ]
    },
    {
      "cell_type": "markdown",
      "metadata": {
        "id": "PiGTXGXKcdmt"
      },
      "source": [
        "## Prepare training & validation sets"
      ]
    },
    {
      "cell_type": "markdown",
      "metadata": {
        "id": "ba3nNYlDcdmt"
      },
      "source": [
        "We'll use only 3 classes from Fashion MNIST: Trouser, T-shirt, and Sneaker classes.\n",
        "\n",
        "The class labels for T-shirt, Trouser, and Sneaker are 0, 1, and 7 respectively.\n",
        "\n",
        "In this part, you'll limit the testing and training sets to only these three classes."
      ]
    },
    {
      "cell_type": "code",
      "execution_count": 4,
      "metadata": {
        "id": "TcBDZEtzcdmu",
        "colab": {
          "base_uri": "https://localhost:8080/"
        },
        "outputId": "7220ca59-3697-45c2-b49f-ea1ff0aef085"
      },
      "outputs": [
        {
          "output_type": "stream",
          "name": "stdout",
          "text": [
            "(18017, 784) (18017,)\n"
          ]
        }
      ],
      "source": [
        "# Modify `y_train` and `x_train`.\n",
        "# Only keep the 3 classes mentioned above.\n",
        "#############################\n",
        "# Your code goes here (4 points)\n",
        "y_train = y_train.astype(int)\n",
        "filter_classes = [0, 1, 7]\n",
        "filtered_indices = np.isin(y_train, filter_classes)\n",
        "x_train = x_train[filtered_indices].to_numpy()\n",
        "y_train = y_train[filtered_indices]\n",
        "y_train[y_train == 7] = 2   # change label 7 to 2\n",
        "#############################\n",
        "\n",
        "print(x_train.shape, y_train.shape)"
      ]
    },
    {
      "cell_type": "code",
      "execution_count": 5,
      "metadata": {
        "id": "LX2hkRe1cdmw",
        "colab": {
          "base_uri": "https://localhost:8080/"
        },
        "outputId": "cd5088d2-275f-45f0-a2e5-f9b93772577d"
      },
      "outputs": [
        {
          "output_type": "stream",
          "name": "stdout",
          "text": [
            "(2983, 784) (2983,)\n"
          ]
        }
      ],
      "source": [
        "# Modify `y_test` and `x_test`.\n",
        "# Only keep the 3 classes mentioned above.\n",
        "#############################\n",
        "# Your code goes here (4 points)\n",
        "y_test = y_test.astype(int)\n",
        "filter_classes = [0, 1, 7]\n",
        "filtered_indices = np.isin(y_test, filter_classes)\n",
        "x_test = x_test[filtered_indices].to_numpy()\n",
        "y_test = y_test[filtered_indices].to_numpy()\n",
        "y_test[y_test == 7] = 2   # change label 7 to 2\n",
        "#############################\n",
        "\n",
        "print(x_test.shape, y_test.shape)"
      ]
    },
    {
      "cell_type": "markdown",
      "metadata": {
        "id": "Gv6SMLUktWbv"
      },
      "source": [
        "## Linear & Activation Functions"
      ]
    },
    {
      "cell_type": "markdown",
      "metadata": {
        "id": "IXlyJo5JteKC"
      },
      "source": [
        "In this part, you'll implement the forward and backward process for the following components:\n",
        "- Softmax Layer\n",
        "- Linear Layer\n",
        "- ReLU Layer\n",
        "- Sigmoid Layer"
      ]
    },
    {
      "cell_type": "markdown",
      "metadata": {
        "id": "BXtAD5uYA4sQ"
      },
      "source": [
        "### The `Softmax` Layer"
      ]
    },
    {
      "cell_type": "code",
      "execution_count": 6,
      "metadata": {
        "id": "tzaIVo-_Axp7"
      },
      "outputs": [],
      "source": [
        "class SoftMaxLayer(object):\n",
        "    def __init__(self):\n",
        "        self.inp = None\n",
        "        self.output = None\n",
        "\n",
        "    def forward(self, x):\n",
        "        # Write the forward pass for softmax.\n",
        "        # Save the values required for the backward pass.\n",
        "        #############################\n",
        "        # Your code goes here (4 points)\n",
        "        self.inp = x\n",
        "        exp_values = np.exp(x - np.max(x, axis=1, keepdims=True))\n",
        "        self.output = exp_values / np.sum(exp_values, axis=1, keepdims=True)\n",
        "        #############################\n",
        "        return self.output\n",
        "\n",
        "    def backward(self, up_grad):\n",
        "        # Write the backward pass for softmax.\n",
        "        #############################\n",
        "        # Your code goes here (4 points)\n",
        "        down_grad = np.empty_like(up_grad)\n",
        "        for index in range(up_grad.shape[0]):\n",
        "            single_output, single_grad = self.output[index], up_grad[index]\n",
        "            single_output = single_output.reshape(-1, 1)\n",
        "            jacobian = np.diagflat(single_output) - np.dot(single_output, single_output.T)\n",
        "            down_grad[index] = np.dot(jacobian, single_grad)\n",
        "        return down_grad\n",
        "        #############################\n",
        "\n",
        "    def step(self, optimizer):\n",
        "      pass"
      ]
    },
    {
      "cell_type": "markdown",
      "metadata": {
        "id": "AcFoIDZjcdnB"
      },
      "source": [
        "### The `Linear` Layer"
      ]
    },
    {
      "cell_type": "code",
      "execution_count": 7,
      "metadata": {
        "id": "1strsTh6cdnG"
      },
      "outputs": [],
      "source": [
        "class Linear:\n",
        "    def __init__(self, in_dim, out_dim):\n",
        "        # Initialize the layer's weights and biases\n",
        "        #############################\n",
        "        # Your code goes here (2 points)\n",
        "        self.w = 0.10 * np.random.randn(in_dim, out_dim)\n",
        "        self.b = np.zeros((1, out_dim))\n",
        "        #############################\n",
        "        self.dw = None\n",
        "        self.db = None\n",
        "\n",
        "    def forward(self, inp):\n",
        "        # Compute linear layer's output.\n",
        "        # Save the value(s) required for the backward phase.\n",
        "        #############################\n",
        "        # Your code goes here (4 points)\n",
        "        self.inp = inp\n",
        "        self.output = np.dot(inp, self.w) + self.b\n",
        "        z = self.output\n",
        "        #############################\n",
        "\n",
        "        return z\n",
        "\n",
        "    def backward(self, up_grad):\n",
        "        # Calculate the gradient with respect to the weights\n",
        "        # and biases and save the results.\n",
        "        #############################\n",
        "        # Your code goes here (6 points)\n",
        "        self.dw = np.dot(self.inp.T, up_grad)\n",
        "        self.db = np.sum(up_grad, axis=0, keepdims=True)\n",
        "        down_grad = np.dot(up_grad, self.w.T)\n",
        "        #############################\n",
        "        return down_grad\n",
        "\n",
        "    def step(self, optimizer):\n",
        "      # Update the layer's weights and biases\n",
        "      # Update previous_w_update and previous_b_update accordingly\n",
        "      #############################\n",
        "      # Your code goes here (5 points)\n",
        "      self.w = optimizer.get_next_update(self.w, self.dw)\n",
        "      self.b = optimizer.get_next_update(self.b, self.db)\n",
        "      #############################"
      ]
    },
    {
      "cell_type": "markdown",
      "metadata": {
        "id": "M0Lfo-nhcdnG"
      },
      "source": [
        "### The `ReLU` Layer"
      ]
    },
    {
      "cell_type": "code",
      "execution_count": 8,
      "metadata": {
        "id": "tN6vcirMcdnH"
      },
      "outputs": [],
      "source": [
        "class RelU:\n",
        "    def __init__(self):\n",
        "        self.inp = None\n",
        "\n",
        "    def forward(self, inp):\n",
        "        # Write the forward pass for ReLU.\n",
        "        # Save the value(s) required for the backward pass.\n",
        "        #############################\n",
        "        # Your code goes here (4 points)\n",
        "        self.inp = inp\n",
        "        self.output = np.maximum(0, inp)\n",
        "        output = self.output\n",
        "        #############################\n",
        "        return output\n",
        "\n",
        "    def backward(self, up_grad):\n",
        "        #############################\n",
        "        # Your code goes here (4 points)\n",
        "        down_grad = up_grad.copy()\n",
        "        down_grad[self.inp <= 0] = 0\n",
        "        #############################\n",
        "        return down_grad\n",
        "\n",
        "    def step(self, optimizer):\n",
        "      pass"
      ]
    },
    {
      "cell_type": "markdown",
      "metadata": {
        "id": "Z00KoSI3cdnJ"
      },
      "source": [
        "### The `sigmoid` Layer"
      ]
    },
    {
      "cell_type": "code",
      "execution_count": 9,
      "metadata": {
        "id": "TTYYeL2lcdnJ"
      },
      "outputs": [],
      "source": [
        "class Sigmoid:\n",
        "    def forward(self, inp):\n",
        "        #############################\n",
        "        # Your code goes here (4 points)\n",
        "        self.out = 1 / (1 + np.exp(-inp))\n",
        "        #############################\n",
        "        return self.out\n",
        "\n",
        "    def backward(self, up_grad):\n",
        "        #############################\n",
        "        # Your code goes here (4 points)\n",
        "        down_grad = self.out * (1 - self.out) * up_grad\n",
        "        #############################\n",
        "        return down_grad\n",
        "\n",
        "    def step(self, optimizer):\n",
        "      pass"
      ]
    },
    {
      "cell_type": "markdown",
      "metadata": {
        "id": "zngleGY2cdnK"
      },
      "source": [
        "## `Loss` function :"
      ]
    },
    {
      "cell_type": "markdown",
      "metadata": {
        "id": "ISedT4FvcdnK"
      },
      "source": [
        "For this task we are going to use the [Cross-Entropy Loss](https://en.wikipedia.org/wiki/Cross_entropy)."
      ]
    },
    {
      "cell_type": "code",
      "execution_count": 10,
      "metadata": {
        "id": "XQyz4ybycdnL"
      },
      "outputs": [],
      "source": [
        "class CELoss():\n",
        "    def __init__(self):\n",
        "      pass\n",
        "\n",
        "    def forward(self, pred, target):\n",
        "\n",
        "        self.yhat = pred\n",
        "        self.y = target\n",
        "        m = self.y.shape[0]\n",
        "        # Commpute and return the loss\n",
        "        #############################\n",
        "        # Your code goes here (8 points)\n",
        "        # pred = np.clip(pred, 1e-7, 1-1e-7) # use for better stability\n",
        "        losses = - np.log(np.sum(pred * target, axis=1, keepdims=True))\n",
        "        self.loss = np.mean(losses)\n",
        "        return self.loss\n",
        "        #############################\n",
        "\n",
        "\n",
        "    def backward(self):\n",
        "        # Derivative of loss_fn with respect to a the predicted label.\n",
        "        # Use `self.y` and `self.yhat` to compute and return `grad`.\n",
        "        #############################\n",
        "        # Your code goes here (6 points)\n",
        "        m = self.y.shape[0]\n",
        "        grad = - self.y / (self.yhat * m)\n",
        "        #############################\n",
        "        return grad"
      ]
    },
    {
      "cell_type": "markdown",
      "metadata": {
        "id": "xovZI-70kB9I"
      },
      "source": [
        "## Optimizer\n",
        "\n",
        "In this section, you'll implement an optimizer classes\n"
      ]
    },
    {
      "cell_type": "code",
      "execution_count": 11,
      "metadata": {
        "id": "h5ADTi5tkVTS"
      },
      "outputs": [],
      "source": [
        "class GradientDescent(object):\n",
        "    def __init__(self, lr):\n",
        "        self.lr = lr\n",
        "\n",
        "    def get_next_update(self, x, dx):\n",
        "        # Compute the new value for 'x' and return the result\n",
        "        #############################\n",
        "        # Your code goes here (2 points)\n",
        "        return x - self.lr * dx\n",
        "        #############################"
      ]
    },
    {
      "cell_type": "markdown",
      "metadata": {
        "id": "LxxrEEovYEFi"
      },
      "source": [
        "## The Model\n",
        "Now you'll write the base class for a multi-layer perceptron network."
      ]
    },
    {
      "cell_type": "code",
      "execution_count": 12,
      "metadata": {
        "id": "t8SoZeYRcdnY"
      },
      "outputs": [],
      "source": [
        "class MLP:\n",
        "    def __init__(self, layers, loss_fn, optimizer):\n",
        "        self.layers = layers\n",
        "        self.losses  = []\n",
        "        self.loss_fn = loss_fn\n",
        "        self.optimizer = optimizer\n",
        "\n",
        "    def forward(self, inp):\n",
        "        # Pass `inp` to all the layers sequentially\n",
        "        # and return the result.\n",
        "        #############################\n",
        "        # Your code goes here (4 points)\n",
        "        for layer in self.layers:\n",
        "            inp = layer.forward(inp)\n",
        "        return inp\n",
        "        #############################\n",
        "\n",
        "    def loss(self, pred, label):\n",
        "        loss = self.loss_fn.forward(pred, label)\n",
        "        self.losses.append(loss)\n",
        "        return loss\n",
        "\n",
        "    def backward(self):\n",
        "        # Start with loss function's gradient and\n",
        "        # do the backward pass on all the layers.\n",
        "        #############################\n",
        "        # Your code goes here (5 points)\n",
        "        up_grad = self.loss_fn.backward()\n",
        "        for layer in self.layers[::-1]:\n",
        "            up_grad = layer.backward(up_grad)\n",
        "        #############################\n",
        "\n",
        "    def update(self):\n",
        "        for layer in self.layers:\n",
        "          layer.step(self.optimizer)"
      ]
    },
    {
      "cell_type": "markdown",
      "metadata": {
        "id": "zo0rNwYciueF"
      },
      "source": [
        "The following cell encodes training labels into a one-hot representation with 3 classes."
      ]
    },
    {
      "cell_type": "code",
      "execution_count": 13,
      "metadata": {
        "id": "nhJTulaFJ4vR"
      },
      "outputs": [],
      "source": [
        "def onehot_enc(y, num_labels):\n",
        "    ary = np.zeros((y.shape[0], num_labels))\n",
        "    for i, val in enumerate(y):\n",
        "        ary[i, val] = 1\n",
        "    return ary\n",
        "\n",
        "y_train = onehot_enc(y_train, 3)"
      ]
    },
    {
      "cell_type": "code",
      "execution_count": 14,
      "metadata": {
        "id": "TS6S_RUwsRkF"
      },
      "outputs": [],
      "source": [
        "def train(model, epochs, x, y):\n",
        "    for n in range(epochs):\n",
        "      # First do the forward pass. Next, compute the loss.\n",
        "      # Then do the backward pass and finally, update the parameters.\n",
        "      #############################\n",
        "      # Your code goes here (4 points)\n",
        "      z = model.forward(x)\n",
        "      loss = model.loss(z, y)\n",
        "      model.backward()\n",
        "      model.update()\n",
        "      #############################\n",
        "      print(f\"Loss at {n}: {loss:.3f}\")"
      ]
    },
    {
      "cell_type": "code",
      "execution_count": 15,
      "metadata": {
        "id": "m1lSq2jNcdnY",
        "scrolled": false,
        "colab": {
          "base_uri": "https://localhost:8080/"
        },
        "outputId": "a5f0fc4b-608c-417b-8932-1b0baba3d115"
      },
      "outputs": [
        {
          "output_type": "stream",
          "name": "stdout",
          "text": [
            "Loss at 0: 1.116\n",
            "Loss at 1: 1.113\n",
            "Loss at 2: 1.111\n",
            "Loss at 3: 1.108\n",
            "Loss at 4: 1.105\n",
            "Loss at 5: 1.102\n",
            "Loss at 6: 1.099\n",
            "Loss at 7: 1.096\n",
            "Loss at 8: 1.093\n",
            "Loss at 9: 1.090\n",
            "Loss at 10: 1.088\n",
            "Loss at 11: 1.085\n",
            "Loss at 12: 1.082\n",
            "Loss at 13: 1.079\n",
            "Loss at 14: 1.076\n",
            "Loss at 15: 1.073\n",
            "Loss at 16: 1.070\n",
            "Loss at 17: 1.068\n",
            "Loss at 18: 1.065\n",
            "Loss at 19: 1.062\n",
            "Loss at 20: 1.059\n",
            "Loss at 21: 1.056\n",
            "Loss at 22: 1.053\n",
            "Loss at 23: 1.051\n",
            "Loss at 24: 1.048\n",
            "Loss at 25: 1.045\n",
            "Loss at 26: 1.042\n",
            "Loss at 27: 1.039\n",
            "Loss at 28: 1.036\n",
            "Loss at 29: 1.034\n",
            "Loss at 30: 1.031\n",
            "Loss at 31: 1.028\n",
            "Loss at 32: 1.025\n",
            "Loss at 33: 1.022\n",
            "Loss at 34: 1.020\n",
            "Loss at 35: 1.017\n",
            "Loss at 36: 1.014\n",
            "Loss at 37: 1.011\n",
            "Loss at 38: 1.008\n",
            "Loss at 39: 1.006\n",
            "Loss at 40: 1.003\n",
            "Loss at 41: 1.000\n",
            "Loss at 42: 0.997\n",
            "Loss at 43: 0.994\n",
            "Loss at 44: 0.992\n",
            "Loss at 45: 0.989\n",
            "Loss at 46: 0.986\n",
            "Loss at 47: 0.983\n",
            "Loss at 48: 0.981\n",
            "Loss at 49: 0.978\n"
          ]
        }
      ],
      "source": [
        "# Instantiate the `MLP` with the following structure:\n",
        "#     Linear with 50 units --> ReLU --> Linear with 50 units --> ReLU --> Linear with 3 units --> Sigmoid --> Softmax\n",
        "# Use GradientDescent as the optimizer, set the learning rate to 0.001, and use CELoss as the loss function.\n",
        "#############################\n",
        "# Your code goes here (4 points)\n",
        "layers = [Linear(784, 50), RelU(), Linear(50, 50), RelU(), Linear(50, 3), Sigmoid(), SoftMaxLayer()]\n",
        "\n",
        "nn = MLP(layers, CELoss(), GradientDescent(0.001))\n",
        "#############################\n",
        "\n",
        "epochs = 50\n",
        "\n",
        "# Train the network using only `x_train` and `y_train` (no validation)\n",
        "train(nn, epochs, x_train, y_train)"
      ]
    },
    {
      "cell_type": "markdown",
      "metadata": {
        "id": "uJec2xRJmY37"
      },
      "source": [
        "Let's plot the loss value for each iteration"
      ]
    },
    {
      "cell_type": "code",
      "execution_count": 16,
      "metadata": {
        "id": "ymaQNn70cdnZ",
        "colab": {
          "base_uri": "https://localhost:8080/",
          "height": 472
        },
        "outputId": "1ba7be63-6688-4974-b501-cb95c2691c41"
      },
      "outputs": [
        {
          "output_type": "display_data",
          "data": {
            "text/plain": [
              "<Figure size 640x480 with 1 Axes>"
            ],
            "image/png": "[encoded data removed]"
          },
          "metadata": {}
        }
      ],
      "source": [
        "plt.plot(nn.losses)\n",
        "plt.title(\"Training loss\")\n",
        "plt.xlabel(\"Iteration\")\n",
        "plt.ylabel(\"Loss\");"
      ]
    },
    {
      "cell_type": "markdown",
      "metadata": {
        "id": "dz3yqRa1cdna"
      },
      "source": [
        "**Let's also check our model's performance using the `accuracy` metric on the `testing` dataset**"
      ]
    },
    {
      "cell_type": "code",
      "execution_count": 17,
      "metadata": {
        "id": "TRqwXho7cdnd",
        "colab": {
          "base_uri": "https://localhost:8080/"
        },
        "outputId": "e0fa8045-7744-4d25-8023-d74f65dc9e64"
      },
      "outputs": [
        {
          "output_type": "stream",
          "name": "stdout",
          "text": [
            "0.7468990948709353\n"
          ]
        }
      ],
      "source": [
        "# Compute the accuracy on the testing set\n",
        "#############################\n",
        "# Your code goes here (7 points)\n",
        "pred = nn.forward(x_test)\n",
        "y_pred = np.argmax(pred, axis=1)\n",
        "acc = np.mean(y_pred == y_test)\n",
        "#############################\n",
        "\n",
        "print(acc)"
      ]
    },
    {
      "cell_type": "markdown",
      "source": [
        "# Additional"
      ],
      "metadata": {
        "id": "wD-NG8v11OrY"
      }
    },
    {
      "cell_type": "code",
      "source": [
        "# Removing the sigmoid layer and increasing learning rate and epochs improves model\n",
        "layers = [Linear(784, 50), RelU(), Linear(50, 50), RelU(), Linear(50, 3), SoftMaxLayer()]\n",
        "nn = MLP(layers, CELoss(), GradientDescent(0.01))\n",
        "epochs = 100\n",
        "train(nn, epochs, x_train, y_train)"
      ],
      "metadata": {
        "colab": {
          "base_uri": "https://localhost:8080/"
        },
        "id": "XJAtIrgg1VPB",
        "outputId": "2b58a872-7908-4bc6-dea1-b8fffb7a00c2"
      },
      "execution_count": 18,
      "outputs": [
        {
          "output_type": "stream",
          "name": "stdout",
          "text": [
            "Loss at 0: 1.080\n",
            "Loss at 1: 1.030\n",
            "Loss at 2: 0.985\n",
            "Loss at 3: 0.943\n",
            "Loss at 4: 0.903\n",
            "Loss at 5: 0.866\n",
            "Loss at 6: 0.830\n",
            "Loss at 7: 0.797\n",
            "Loss at 8: 0.765\n",
            "Loss at 9: 0.736\n",
            "Loss at 10: 0.709\n",
            "Loss at 11: 0.683\n",
            "Loss at 12: 0.659\n",
            "Loss at 13: 0.636\n",
            "Loss at 14: 0.615\n",
            "Loss at 15: 0.595\n",
            "Loss at 16: 0.576\n",
            "Loss at 17: 0.559\n",
            "Loss at 18: 0.542\n",
            "Loss at 19: 0.526\n",
            "Loss at 20: 0.511\n",
            "Loss at 21: 0.497\n",
            "Loss at 22: 0.483\n",
            "Loss at 23: 0.470\n",
            "Loss at 24: 0.458\n",
            "Loss at 25: 0.447\n",
            "Loss at 26: 0.435\n",
            "Loss at 27: 0.425\n",
            "Loss at 28: 0.415\n",
            "Loss at 29: 0.405\n",
            "Loss at 30: 0.396\n",
            "Loss at 31: 0.387\n",
            "Loss at 32: 0.378\n",
            "Loss at 33: 0.370\n",
            "Loss at 34: 0.362\n",
            "Loss at 35: 0.355\n",
            "Loss at 36: 0.348\n",
            "Loss at 37: 0.341\n",
            "Loss at 38: 0.334\n",
            "Loss at 39: 0.328\n",
            "Loss at 40: 0.321\n",
            "Loss at 41: 0.315\n",
            "Loss at 42: 0.310\n",
            "Loss at 43: 0.304\n",
            "Loss at 44: 0.299\n",
            "Loss at 45: 0.294\n",
            "Loss at 46: 0.289\n",
            "Loss at 47: 0.284\n",
            "Loss at 48: 0.279\n",
            "Loss at 49: 0.274\n",
            "Loss at 50: 0.270\n",
            "Loss at 51: 0.266\n",
            "Loss at 52: 0.262\n",
            "Loss at 53: 0.258\n",
            "Loss at 54: 0.254\n",
            "Loss at 55: 0.250\n",
            "Loss at 56: 0.246\n",
            "Loss at 57: 0.243\n",
            "Loss at 58: 0.239\n",
            "Loss at 59: 0.236\n",
            "Loss at 60: 0.232\n",
            "Loss at 61: 0.229\n",
            "Loss at 62: 0.226\n",
            "Loss at 63: 0.223\n",
            "Loss at 64: 0.220\n",
            "Loss at 65: 0.217\n",
            "Loss at 66: 0.214\n",
            "Loss at 67: 0.212\n",
            "Loss at 68: 0.209\n",
            "Loss at 69: 0.206\n",
            "Loss at 70: 0.204\n",
            "Loss at 71: 0.201\n",
            "Loss at 72: 0.199\n",
            "Loss at 73: 0.197\n",
            "Loss at 74: 0.194\n",
            "Loss at 75: 0.192\n",
            "Loss at 76: 0.190\n",
            "Loss at 77: 0.188\n",
            "Loss at 78: 0.186\n",
            "Loss at 79: 0.184\n",
            "Loss at 80: 0.182\n",
            "Loss at 81: 0.180\n",
            "Loss at 82: 0.178\n",
            "Loss at 83: 0.176\n",
            "Loss at 84: 0.174\n",
            "Loss at 85: 0.172\n",
            "Loss at 86: 0.170\n",
            "Loss at 87: 0.169\n",
            "Loss at 88: 0.167\n",
            "Loss at 89: 0.165\n",
            "Loss at 90: 0.164\n",
            "Loss at 91: 0.162\n",
            "Loss at 92: 0.161\n",
            "Loss at 93: 0.159\n",
            "Loss at 94: 0.158\n",
            "Loss at 95: 0.156\n",
            "Loss at 96: 0.155\n",
            "Loss at 97: 0.154\n",
            "Loss at 98: 0.152\n",
            "Loss at 99: 0.151\n"
          ]
        }
      ]
    },
    {
      "cell_type": "code",
      "source": [
        "plt.plot(nn.losses)\n",
        "plt.title(\"Training loss\")\n",
        "plt.xlabel(\"Iteration\")\n",
        "plt.ylabel(\"Loss\");"
      ],
      "metadata": {
        "colab": {
          "base_uri": "https://localhost:8080/",
          "height": 472
        },
        "id": "8qmJxUTW1ifc",
        "outputId": "48a92d3b-6fa6-47bc-a306-d37086e0b6b5"
      },
      "execution_count": 19,
      "outputs": [
        {
          "output_type": "display_data",
          "data": {
            "text/plain": [
              "<Figure size 640x480 with 1 Axes>"
            ],
            "image/png": "[encoded data removed]"
          },
          "metadata": {}
        }
      ]
    },
    {
      "cell_type": "code",
      "source": [
        "pred = nn.forward(x_test)\n",
        "y_pred = np.argmax(pred, axis=1)\n",
        "acc = np.mean(y_pred == y_test)\n",
        "print(acc)"
      ],
      "metadata": {
        "colab": {
          "base_uri": "https://localhost:8080/"
        },
        "id": "-B77FdZ11k1L",
        "outputId": "6169d2bd-ad3f-49ae-86cc-16807c7b4d96"
      },
      "execution_count": 20,
      "outputs": [
        {
          "output_type": "stream",
          "name": "stdout",
          "text": [
            "0.9711699631243714\n"
          ]
        }
      ]
    }
  ],
  "metadata": {
    "colab": {
      "provenance": []
    },
    "gpuClass": "standard",
    "kernelspec": {
      "display_name": "Python 3 (ipykernel)",
      "language": "python",
      "name": "python3"
    },
    "language_info": {
      "codemirror_mode": {
        "name": "ipython",
        "version": 3
      },
      "file_extension": ".py",
      "mimetype": "text/x-python",
      "name": "python",
      "nbconvert_exporter": "python",
      "pygments_lexer": "ipython3",
      "version": "3.11.3"
    }
  },
  "nbformat": 4,
  "nbformat_minor": 0
}